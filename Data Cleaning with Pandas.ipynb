{
 "cells": [
  {
   "cell_type": "markdown",
   "id": "bf61248a",
   "metadata": {},
   "source": [
    "# Python 資料清理 with Pandas\n",
    "\n",
    "## 載入 Pandas 套件"
   ]
  },
  {
   "cell_type": "code",
   "execution_count": null,
   "id": "fc49ee3a",
   "metadata": {},
   "outputs": [],
   "source": [
    "import pandas as pd"
   ]
  },
  {
   "cell_type": "markdown",
   "id": "2169c507",
   "metadata": {},
   "source": [
    "## 讀取 Excel 檔案，匯入為 Pandas DataFrame"
   ]
  },
  {
   "cell_type": "code",
   "execution_count": null,
   "id": "0d862075",
   "metadata": {},
   "outputs": [],
   "source": [
    "df = pd.read_excel('sample4.xlsx', sheet_name=0)"
   ]
  },
  {
   "cell_type": "markdown",
   "id": "7baaaa5c",
   "metadata": {},
   "source": [
    "看一下讀進來的資料長得什麼樣子："
   ]
  },
  {
   "cell_type": "code",
   "execution_count": null,
   "id": "e888cda2",
   "metadata": {},
   "outputs": [],
   "source": [
    "df"
   ]
  },
  {
   "cell_type": "markdown",
   "id": "bda27253",
   "metadata": {},
   "source": [
    "看一下每個欄位是否有缺漏的資料："
   ]
  },
  {
   "cell_type": "code",
   "execution_count": null,
   "id": "96da9a5d",
   "metadata": {},
   "outputs": [],
   "source": [
    "df.isnull().sum()"
   ]
  },
  {
   "cell_type": "markdown",
   "id": "9e12a2b1",
   "metadata": {},
   "source": [
    "## 填補缺漏資料\n",
    "\n",
    "我們先來處理「入學管道」與「報名日期」兩個欄位，我們讓這兩個欄位的空值直接填入前一筆資料的內容："
   ]
  },
  {
   "cell_type": "code",
   "execution_count": null,
   "id": "30704cc5",
   "metadata": {},
   "outputs": [],
   "source": [
    "df['入學管道'].fillna(method='ffill', inplace=True)\n",
    "df['報名日期'].fillna(method='ffill', inplace=True)"
   ]
  },
  {
   "cell_type": "markdown",
   "id": "2a1c9d00",
   "metadata": {},
   "source": [
    "接著處理「出生地」欄位，我們將出生地的空值䩗入「地址」欄位的前三個字："
   ]
  },
  {
   "cell_type": "code",
   "execution_count": null,
   "id": "9164fb3f",
   "metadata": {},
   "outputs": [],
   "source": [
    "df['出生地'].fillna(df['地址'].str[:3], inplace=True)"
   ]
  },
  {
   "cell_type": "markdown",
   "id": "f223cdd3",
   "metadata": {},
   "source": [
    "再來處理「數學」與「自然」兩個欄位的缺值，「數學」欄位的缺值填0："
   ]
  },
  {
   "cell_type": "code",
   "execution_count": null,
   "id": "669f38e7",
   "metadata": {},
   "outputs": [],
   "source": [
    "df['數學'].fillna(0, inplace=True)"
   ]
  },
  {
   "cell_type": "markdown",
   "id": "b2801299",
   "metadata": {},
   "source": [
    "「自然」㯗位要填平均值："
   ]
  },
  {
   "cell_type": "code",
   "execution_count": null,
   "id": "5a537f6a",
   "metadata": {},
   "outputs": [],
   "source": [
    "df['自然'].fillna(df['自然'].mean(), inplace=True)"
   ]
  },
  {
   "cell_type": "markdown",
   "id": "203415e3",
   "metadata": {},
   "source": [
    "## 移除重複的列\n",
    "\n",
    "接下來把同樣學號與姓名的資料有重複的刪除："
   ]
  },
  {
   "cell_type": "code",
   "execution_count": null,
   "id": "418f5b52",
   "metadata": {},
   "outputs": [],
   "source": [
    "df.drop_duplicates(['學號', '姓名'], inplace=True)"
   ]
  },
  {
   "cell_type": "markdown",
   "id": "d099da93",
   "metadata": {},
   "source": [
    "## 變更大小寫\n",
    "\n",
    "利用Python字串處理，把英文名字首字改為大寫："
   ]
  },
  {
   "cell_type": "code",
   "execution_count": null,
   "id": "aa7e39be",
   "metadata": {},
   "outputs": [],
   "source": [
    "df['英文名'] = df['英文名'].str.title()"
   ]
  },
  {
   "cell_type": "markdown",
   "id": "0519af24",
   "metadata": {},
   "source": [
    "## 移除空白字元\n",
    "\n",
    "一樣利用Python字串處理，把前後的空白移除："
   ]
  },
  {
   "cell_type": "code",
   "execution_count": null,
   "id": "ce9808ce",
   "metadata": {},
   "outputs": [],
   "source": [
    "df['英文名'] = df['英文名'].str.strip()"
   ]
  },
  {
   "cell_type": "markdown",
   "id": "d36992af",
   "metadata": {},
   "source": [
    "## 修正數值格式\n",
    "\n",
    "我們把「社會」、「數學」和「自然」的成績分數都四捨五入到整數位："
   ]
  },
  {
   "cell_type": "code",
   "execution_count": null,
   "id": "0931adab",
   "metadata": {},
   "outputs": [],
   "source": [
    "df['社會'] = df['社會'].round(decimals=0).apply(int)\n",
    "df['數學'] = df['數學'].round(decimals=0).apply(int)\n",
    "df['自然'] = df['自然'].round(decimals=0).apply(int)"
   ]
  },
  {
   "cell_type": "markdown",
   "id": "1fea66a3",
   "metadata": {},
   "source": [
    "## 將「總分」與「平均」重新計算\n",
    "\n",
    "我們把原本的「總分」與「平均」兩個欄位，按照新的值重新來計算："
   ]
  },
  {
   "cell_type": "code",
   "execution_count": null,
   "id": "03134345",
   "metadata": {},
   "outputs": [],
   "source": [
    "df['總分'] = df.loc[:,['國文', '英文', '數學', '社會', '自然']].sum(axis=1)\n",
    "df['平均'] = df.loc[:,['國文', '英文', '數學', '社會', '自然']].mean(axis=1)"
   ]
  },
  {
   "cell_type": "code",
   "execution_count": null,
   "id": "a028367c",
   "metadata": {},
   "outputs": [],
   "source": [
    "dfm"
   ]
  },
  {
   "cell_type": "markdown",
   "id": "8fb7f69e",
   "metadata": {},
   "source": [
    "## 修正日期\n",
    "\n",
    "將「生日」欄位的日期統一為西元年並都用同樣的格式："
   ]
  },
  {
   "cell_type": "code",
   "execution_count": null,
   "id": "b10976f8",
   "metadata": {},
   "outputs": [],
   "source": [
    "def convert_date(x):\n",
    "    x = x.replace('-', '/')\n",
    "    y, m, d = x.split('/')\n",
    "    y, m, d = int(y), int(m), int(d)\n",
    "    return f\"{y + 1911}/{m:02d}/{d:02d}\"\n",
    "    \n",
    "df['生日'] = df['生日'].apply(convert_date)"
   ]
  },
  {
   "cell_type": "markdown",
   "id": "5ed4b92d",
   "metadata": {},
   "source": [
    "## 電話欄位格式\n",
    "\n",
    "我們利用正規表示式來統一電話格式為 **02**-XXXXXXX："
   ]
  },
  {
   "cell_type": "code",
   "execution_count": null,
   "id": "be4bef24",
   "metadata": {},
   "outputs": [],
   "source": [
    "import re\n",
    "import numpy as np\n",
    "\n",
    "def convert_phone(x):\n",
    "    if pd.notnull(x):\n",
    "        m = re.match('\\((.*)\\)(.*)', x) \n",
    "        if m:\n",
    "            area_code = m.group(1)\n",
    "            last_part = m.group(2)\n",
    "            return f\"{area_code}-{last_part}\"\n",
    "        else:\n",
    "            return x\n",
    "    else:\n",
    "        return np.NaN\n",
    "    \n",
    "df['電話'].apply(convert_phone)"
   ]
  },
  {
   "cell_type": "markdown",
   "id": "9e32a622",
   "metadata": {},
   "source": [
    "雖然這個在Excel看起來似乎也做得到，但若我們要求是要統一成這樣： **(02)** XXXX-XXXX 話的，Excel就很難辦到了，但是用Python簡單的修改一下就可以："
   ]
  },
  {
   "cell_type": "code",
   "execution_count": null,
   "id": "c8451f27",
   "metadata": {},
   "outputs": [],
   "source": [
    "import re\n",
    "import numpy as np\n",
    "\n",
    "def convert_phone(x):\n",
    "    if pd.notnull(x):\n",
    "        m = re.match('(\\d\\d)-(.*)', x) \n",
    "        if m:\n",
    "            area_code = m.group(1)\n",
    "            last_part = m.group(2)\n",
    "            return f\"({area_code}){last_part}\"\n",
    "        else:\n",
    "            return x\n",
    "    else:\n",
    "        return np.NaN\n",
    "    \n",
    "df['電話'].apply(convert_phone)"
   ]
  },
  {
   "cell_type": "code",
   "execution_count": null,
   "id": "2576d721",
   "metadata": {},
   "outputs": [],
   "source": [
    "df['電話'] = df['電話'].apply(convert_phone)"
   ]
  },
  {
   "cell_type": "markdown",
   "id": "376073e3",
   "metadata": {},
   "source": [
    "## 清理完成！\n",
    "\n",
    "我們來看一下好不容易清理完的結果吧："
   ]
  },
  {
   "cell_type": "code",
   "execution_count": null,
   "id": "72b0c937",
   "metadata": {},
   "outputs": [],
   "source": [
    "df"
   ]
  },
  {
   "cell_type": "markdown",
   "id": "bf23c5e1",
   "metadata": {},
   "source": [
    "## 把結果輸出成 Excel 檔案："
   ]
  },
  {
   "cell_type": "code",
   "execution_count": null,
   "id": "990f5db6",
   "metadata": {},
   "outputs": [],
   "source": [
    "df.to_excel('cleaned.xlsx', index=False)"
   ]
  },
  {
   "cell_type": "code",
   "execution_count": null,
   "id": "8d2b7939",
   "metadata": {},
   "outputs": [],
   "source": []
  }
 ],
 "metadata": {
  "kernelspec": {
   "display_name": "Python 3 (ipykernel)",
   "language": "python",
   "name": "python3"
  },
  "language_info": {
   "codemirror_mode": {
    "name": "ipython",
    "version": 3
   },
   "file_extension": ".py",
   "mimetype": "text/x-python",
   "name": "python",
   "nbconvert_exporter": "python",
   "pygments_lexer": "ipython3",
   "version": "3.9.12"
  }
 },
 "nbformat": 4,
 "nbformat_minor": 5
}
