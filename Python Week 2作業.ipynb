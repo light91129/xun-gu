{
  "cells": [
    {
      "cell_type": "markdown",
      "metadata": {
        "id": "Ko_7LpTpq6wE"
      },
      "source": [
        "# Python Class Week 2:\n",
        "## 條件判斷"
      ]
    },
    {
      "cell_type": "markdown",
      "metadata": {
        "id": "y9EkvBSgq6wF"
      },
      "source": [
        "* 本章主要將要介紹：條件判斷。因為某些條件的不同，而決定不同的執行方式。\n",
        "* 但在介紹主要的「條件判斷」結構之前，必須先講講，你有哪些可能用來判斷的「比較方式」。   "
      ]
    },
    {
      "cell_type": "markdown",
      "metadata": {
        "id": "OkKSaZ0wq6wF"
      },
      "source": [
        "## 2.1 一切的根源，「是（True）」與「否(False)」"
      ]
    },
    {
      "cell_type": "markdown",
      "metadata": {
        "id": "vfGIxSlHq6wF"
      },
      "source": [
        "* 程式邏輯當中，利用狀況判斷決定要如何進行，是非常常見的行為。\n",
        "* 但程式的想法是很簡單的：符合「某種情況」就進行A，否則，就進行B\n",
        "* 或是：符合「某種情況」就進行A， 否則看看是否符合「第二種情況」，若是就進行B，在不然，就進行C\n",
        "* …... 各種可能的擴充。\n",
        "\n",
        "* 但認真來想，面對「符合某種情況」的判斷時，其實結果只有兩種：「是（True）」與「否(False)」\n",
        "* 不過，對於狀況的定義，有很多種可能。\n",
        "* 例如：「1是否等於1」(這是一種相等的比較)，或是 「a 是否小於1」(這是一種大小的比較)，或是 「b 是否不等於k」 (這是一種不等於的比較)。 … 有很多種運算方式。\n",
        "* 因此，我們下面先討論一些經常用於情況判斷的運算方式："
      ]
    },
    {
      "cell_type": "markdown",
      "metadata": {
        "id": "W-j4eag5q6wF"
      },
      "source": [
        "## 2.2 比較運算 == , > , < , >=, <= , !=\n",
        "\n",
        "* `==` 運算子（operator）: 用來比較兩邊的「值」，是否完全相等。\n",
        "* 注意，這是一種運算，就像1+1一樣，是一種運算。運算就會產生結果，`==` 運算子的結果是兩種：`True` 或  `False`，如下例："
      ]
    },
    {
      "cell_type": "code",
      "execution_count": null,
      "metadata": {
        "id": "1ha1TdwGq6wF"
      },
      "outputs": [],
      "source": [
        "5 == 5"
      ]
    },
    {
      "cell_type": "code",
      "execution_count": null,
      "metadata": {
        "id": "XTKTTQy0q6wF"
      },
      "outputs": [],
      "source": [
        "5 == 6"
      ]
    },
    {
      "cell_type": "markdown",
      "metadata": {
        "id": "Mf7dOMQ2q6wG"
      },
      "source": [
        "* 為了程式中運算的需求，所以True/False 不是「字串」型態，而是特殊的boolean(布林值)型態。布林值就只有 真(True)/假(False) 兩種可能性。所以boolean值型態的變數，不可相加減，不可乘除，但可以比較，也可以搭配後續會介紹的 and/or/not 運算。\n",
        "\n",
        "* `==` 運算子之外，其他的比較可能性有："
      ]
    },
    {
      "cell_type": "raw",
      "metadata": {
        "id": "B-ldNwQ8q6wG"
      },
      "source": [
        "x != y # x is not equal to y\n",
        "x > y  # x is greater than y\n",
        "x < y  # x is less than y\n",
        "x >= y # x is greater than or equal to y\n",
        "x <= y # x is less than or equal to y"
      ]
    },
    {
      "cell_type": "markdown",
      "metadata": {
        "id": "EUH-rT9sq6wG"
      },
      "source": [
        "* 要特別注意的是，`=` 是 assignment(指派)，而非比較 (`==`)，千萬不要搞混。解釋一下下面的四個步驟："
      ]
    },
    {
      "cell_type": "code",
      "execution_count": null,
      "metadata": {
        "id": "URmhSv3Mq6wG"
      },
      "outputs": [],
      "source": [
        "a=1"
      ]
    },
    {
      "cell_type": "code",
      "execution_count": null,
      "metadata": {
        "id": "2LVMHwB-q6wG"
      },
      "outputs": [],
      "source": [
        "a==2"
      ]
    },
    {
      "cell_type": "code",
      "execution_count": null,
      "metadata": {
        "id": "FpY5r9L6q6wG"
      },
      "outputs": [],
      "source": [
        "a=a+1"
      ]
    },
    {
      "cell_type": "code",
      "execution_count": null,
      "metadata": {
        "id": "Vbi7_v9wq6wG"
      },
      "outputs": [],
      "source": [
        "a==2"
      ]
    },
    {
      "cell_type": "markdown",
      "metadata": {
        "id": "-ZQbF-KHq6wG"
      },
      "source": [
        "## 2.3 邏輯運算 operators\n",
        "\n",
        "* 邏輯運算是搭配Boolean值的特殊運算方式。常用的是：`and` (和), `or` (或), `not` (非)\n",
        "* 試一下下面的運算。（以下假設x=1, y=10）"
      ]
    },
    {
      "cell_type": "code",
      "execution_count": null,
      "metadata": {
        "id": "iM8JHExLq6wG"
      },
      "outputs": [],
      "source": [
        "x = 1\n",
        "y = 10"
      ]
    },
    {
      "cell_type": "markdown",
      "metadata": {
        "id": "0JC5EKYQq6wG"
      },
      "source": [
        "### `and` 「和」運算"
      ]
    },
    {
      "cell_type": "code",
      "execution_count": null,
      "metadata": {
        "id": "nK6TD6Rcq6wG"
      },
      "outputs": [],
      "source": [
        "True and True"
      ]
    },
    {
      "cell_type": "code",
      "execution_count": null,
      "metadata": {
        "id": "Mrjt6X3Lq6wH"
      },
      "outputs": [],
      "source": [
        "True and False"
      ]
    },
    {
      "cell_type": "code",
      "execution_count": null,
      "metadata": {
        "id": "3S-C6PG2q6wH"
      },
      "outputs": [],
      "source": [
        "False and False"
      ]
    },
    {
      "cell_type": "code",
      "execution_count": null,
      "metadata": {
        "id": "LzqxrMuXq6wH"
      },
      "outputs": [],
      "source": [
        "(x > 20) and (y <= 10)"
      ]
    },
    {
      "cell_type": "code",
      "execution_count": null,
      "metadata": {
        "id": "rabjYgGNq6wH"
      },
      "outputs": [],
      "source": [
        "(x > 0) and (y < 5)"
      ]
    },
    {
      "cell_type": "code",
      "execution_count": null,
      "metadata": {
        "id": "KkIR9fgjq6wH"
      },
      "outputs": [],
      "source": [
        "(x == 1) and (y == 10)"
      ]
    },
    {
      "cell_type": "code",
      "execution_count": null,
      "metadata": {
        "id": "NWJM2nOxq6wH"
      },
      "outputs": [],
      "source": [
        "(x < y) and (y > -3)"
      ]
    },
    {
      "cell_type": "markdown",
      "metadata": {
        "id": "SaDNu52tq6wH"
      },
      "source": [
        "### `or` 「或」運算"
      ]
    },
    {
      "cell_type": "code",
      "execution_count": null,
      "metadata": {
        "id": "TYLyjN7Nq6wH"
      },
      "outputs": [],
      "source": [
        "True or True"
      ]
    },
    {
      "cell_type": "code",
      "execution_count": null,
      "metadata": {
        "id": "syEhm5XQq6wH"
      },
      "outputs": [],
      "source": [
        "True or False"
      ]
    },
    {
      "cell_type": "code",
      "execution_count": null,
      "metadata": {
        "id": "vCF_JFx-q6wH"
      },
      "outputs": [],
      "source": [
        "False or False"
      ]
    },
    {
      "cell_type": "code",
      "execution_count": null,
      "metadata": {
        "id": "vavWnn7mq6wH"
      },
      "outputs": [],
      "source": [
        "(x > 20) or (y <= 10)"
      ]
    },
    {
      "cell_type": "code",
      "execution_count": null,
      "metadata": {
        "id": "_O-4WI8Qq6wH"
      },
      "outputs": [],
      "source": [
        "(x > 0) or (y < 5)"
      ]
    },
    {
      "cell_type": "code",
      "execution_count": null,
      "metadata": {
        "id": "KabVXgh4q6wI"
      },
      "outputs": [],
      "source": [
        "(x == 1) or (y == 10)"
      ]
    },
    {
      "cell_type": "code",
      "execution_count": null,
      "metadata": {
        "id": "4wsdH0QVq6wI"
      },
      "outputs": [],
      "source": [
        "(x < y) or (y < -3)"
      ]
    },
    {
      "cell_type": "markdown",
      "metadata": {
        "id": "rA3kp_66q6wI"
      },
      "source": [
        "### `not` 「非」運算"
      ]
    },
    {
      "cell_type": "code",
      "execution_count": null,
      "metadata": {
        "id": "W0axoX1Lq6wI"
      },
      "outputs": [],
      "source": [
        "not True"
      ]
    },
    {
      "cell_type": "code",
      "execution_count": null,
      "metadata": {
        "id": "FH2XgU7Gq6wI"
      },
      "outputs": [],
      "source": [
        "not False"
      ]
    },
    {
      "cell_type": "code",
      "execution_count": null,
      "metadata": {
        "id": "1VuMypGmq6wI"
      },
      "outputs": [],
      "source": [
        "not x > 20"
      ]
    },
    {
      "cell_type": "code",
      "execution_count": null,
      "metadata": {
        "id": "dvi_RvKtq6wI"
      },
      "outputs": [],
      "source": [
        "not y == 9"
      ]
    },
    {
      "cell_type": "code",
      "execution_count": null,
      "metadata": {
        "id": "_I26R1Gkq6wI"
      },
      "outputs": [],
      "source": [
        "not x == y"
      ]
    },
    {
      "cell_type": "markdown",
      "metadata": {
        "id": "9XmtGnVZq6wI"
      },
      "source": [
        "### 結合運算"
      ]
    },
    {
      "cell_type": "code",
      "execution_count": null,
      "metadata": {
        "id": "q_snuYW8q6wJ"
      },
      "outputs": [],
      "source": [
        "(not True) and (not False)"
      ]
    },
    {
      "cell_type": "code",
      "execution_count": null,
      "metadata": {
        "id": "HBP9JCg5q6wJ"
      },
      "outputs": [],
      "source": [
        "(not True) or (not False)"
      ]
    },
    {
      "cell_type": "code",
      "execution_count": null,
      "metadata": {
        "id": "0dwt7lDNq6wJ"
      },
      "outputs": [],
      "source": [
        "not ( True and False)"
      ]
    },
    {
      "cell_type": "code",
      "execution_count": null,
      "metadata": {
        "id": "6-l4vEGxq6wJ"
      },
      "outputs": [],
      "source": [
        "not ( True or False)"
      ]
    },
    {
      "cell_type": "code",
      "execution_count": null,
      "metadata": {
        "id": "al8-pUOCq6wJ"
      },
      "outputs": [],
      "source": [
        "not (False and (not False))"
      ]
    },
    {
      "cell_type": "code",
      "execution_count": null,
      "metadata": {
        "id": "HggWzq__q6wJ"
      },
      "outputs": [],
      "source": [
        "not (False or (not False))"
      ]
    },
    {
      "cell_type": "code",
      "execution_count": null,
      "metadata": {
        "id": "wADQYZmHq6wJ"
      },
      "outputs": [],
      "source": [
        "(not x > 20) and (not y <= 10)"
      ]
    },
    {
      "cell_type": "code",
      "execution_count": null,
      "metadata": {
        "id": "IENERzvlq6wJ"
      },
      "outputs": [],
      "source": [
        "(not x > 0) and (not y < 5)"
      ]
    },
    {
      "cell_type": "code",
      "execution_count": null,
      "metadata": {
        "id": "aPwYujNNq6wJ"
      },
      "outputs": [],
      "source": [
        "not (x == 1 and y == 10)"
      ]
    },
    {
      "cell_type": "code",
      "execution_count": null,
      "metadata": {
        "id": "DnObUcBXq6wK"
      },
      "outputs": [],
      "source": [
        "not (x > 20 or y <= 10)"
      ]
    },
    {
      "cell_type": "code",
      "execution_count": null,
      "metadata": {
        "id": "lW8CvLfUq6wK"
      },
      "outputs": [],
      "source": [
        "not ((not x > 0) and y < 5)"
      ]
    },
    {
      "cell_type": "code",
      "execution_count": null,
      "metadata": {
        "id": "l-lJNYAdq6wK"
      },
      "outputs": [],
      "source": [
        "not (x == 1 or not y == 10)"
      ]
    },
    {
      "cell_type": "markdown",
      "metadata": {
        "id": "8N6zRSA3q6wK"
      },
      "source": [
        "* 一些特殊情況：一個單一數字也可以當作boolen值來運用。此時，該數字若是`0`，會被解釋為`False`, 該數字若是`1`，都會當作`True`.\n",
        "* （**重要！！**）其他數字，不是`True`，也不是`False`\n",
        "\n",
        "* Ex: 回答以下問題："
      ]
    },
    {
      "cell_type": "code",
      "execution_count": null,
      "metadata": {
        "id": "Q9KsSqH_q6wK"
      },
      "outputs": [],
      "source": [
        "1 == True"
      ]
    },
    {
      "cell_type": "code",
      "execution_count": null,
      "metadata": {
        "id": "v5GPixprq6wK"
      },
      "outputs": [],
      "source": [
        "0 == True"
      ]
    },
    {
      "cell_type": "code",
      "execution_count": null,
      "metadata": {
        "id": "-NrWvx4mq6wK"
      },
      "outputs": [],
      "source": [
        "-1 == True"
      ]
    },
    {
      "cell_type": "code",
      "execution_count": null,
      "metadata": {
        "id": "vkm-v98vq6wK"
      },
      "outputs": [],
      "source": [
        "-1 == False"
      ]
    },
    {
      "cell_type": "markdown",
      "metadata": {
        "id": "CbnP1uBEq6wK"
      },
      "source": [
        "## 2.4 條件判斷與執行"
      ]
    },
    {
      "cell_type": "markdown",
      "metadata": {
        "id": "mvVTMTn8q6wK"
      },
      "source": [
        "* 條件判斷讓我們在程式裡面有能力進行條件的檢查，從而改變程式的行為\n",
        "* 最簡單的條件判斷就是 **if 敘述**:"
      ]
    },
    {
      "cell_type": "code",
      "execution_count": null,
      "metadata": {
        "id": "HlY-qcCgq6wK"
      },
      "outputs": [],
      "source": [
        "if x > 0:\n",
        "    print('x is positive')"
      ]
    },
    {
      "cell_type": "markdown",
      "metadata": {
        "id": "uQ1pCIknq6wL"
      },
      "source": [
        "* 在 `if` 之後的布林運算式我們叫作「條件」。如果它的結果是`True`，那麼之後縮排進去的程式敘述就會被執行；如果不是，那麼什麼事也不會發生。\n",
        "* 在`if`之後縮排的body部分，沒有長度的限制，你愛寫多少句敘述都可以，但是至少一定要有一句。\n",
        "* 如果你真的需要寫一個沒有任何body內容`if`敘述（通常是我們知道這條件發生時要做些事情，但還沒想好或還沒時間寫該怎麼做的時候），你可以在body裡放一個 `pass` 敘述，Python讀到的時候就不會做任何事，就像這樣："
      ]
    },
    {
      "cell_type": "code",
      "execution_count": null,
      "metadata": {
        "id": "m8Ux2k4jq6wL"
      },
      "outputs": [],
      "source": [
        "if x < 0:\n",
        "    pass  # need to handle negative values!"
      ]
    },
    {
      "cell_type": "markdown",
      "metadata": {
        "id": "UFafagLCq6wL"
      },
      "source": [
        "### 課堂練習 2.1\n",
        "\n",
        "請寫一個程式，讓使用者輸入考試分數， 判斷使用者輸入的分數是否及格，如果及格的話就印出「你及格了」。"
      ]
    },
    {
      "cell_type": "code",
      "execution_count": null,
      "metadata": {
        "id": "PFIYxYmsq6wL"
      },
      "outputs": [],
      "source": []
    },
    {
      "cell_type": "markdown",
      "metadata": {
        "id": "RwIahTCSq6wL"
      },
      "source": [
        "## 2.5 Alternative execution\n",
        "\n",
        "* 補充：`%` 運算子是用來取餘數。\n",
        "* 三個常常用到`%`運算的情形：\n",
        " 1. 看看兩數是否會互相整除： if x % y == 0\n",
        " 2. 判斷一個數是不是偶數的最好方式，就是用除以2的餘數，是不是0來判斷。\n",
        " 3. 取一個數字的最末幾位數。例如：\n",
        "   1. x % 10 可以取得某一數字的最末一位數。\n",
        "   2. x % 100 可以取得某一數字的最末兩位數。\n",
        "\n",
        "\n",
        "* `if` 結合 `else` 讓我們可以表示有兩種條件發生可能性，依據條件來決定哪一部分的程式要被執行"
      ]
    },
    {
      "cell_type": "code",
      "execution_count": null,
      "metadata": {
        "id": "6qzTY_QXq6wL"
      },
      "outputs": [],
      "source": [
        "if x % 2 == 0:\n",
        "    print('x is even')\n",
        "else:\n",
        "    print('x is odd')"
      ]
    },
    {
      "cell_type": "markdown",
      "metadata": {
        "id": "Ynb2L_HQq6wL"
      },
      "source": [
        "* 這又稱作「分支」(branch)，因為這讓程式執行的流程產生了不同的分支"
      ]
    },
    {
      "cell_type": "markdown",
      "metadata": {
        "id": "ylWr1fAxq6wL"
      },
      "source": [
        "### 課堂練習 2.2\n",
        "\n",
        "下表為氣象局的紫外線指數分級說明，當數值「8」以上就是過量級有危險了！\n",
        "\n",
        "| 紫外線指數 | 曝曬級數 |\n",
        "|:----------:|:--------:|\n",
        "|     0–2    |  低量級  |\n",
        "|     3–5    |  中量級  |\n",
        "|     6–7    |  高量級  |\n",
        "|    8–10    |  過量級  |\n",
        "|     11+    |  危險級  |\n",
        "\n",
        "請寫一個程式，讓使用者輸入今天的紫外線指數，若是8以上，則印出「今日的紫外線指數過量，請小心防曬！」提醒使用者；若小於8，則印出「今日的紫外線指數未過量。」"
      ]
    },
    {
      "cell_type": "code",
      "execution_count": null,
      "metadata": {
        "id": "2eNb1z10q6wL"
      },
      "outputs": [],
      "source": []
    },
    {
      "cell_type": "markdown",
      "metadata": {
        "id": "TZsIypTBq6wL"
      },
      "source": [
        "## 2.7 連鎖條件 Chained conditionals\n",
        "\n",
        "* 有的時候會發生的可能性不只兩種，我們需要更多的條件檢查，產生更多的分支\n",
        "* 要表達這樣的多種分支，我們可以利用連鎖的條件檢查來達成："
      ]
    },
    {
      "cell_type": "code",
      "execution_count": null,
      "metadata": {
        "id": "sxZ9quHcq6wL"
      },
      "outputs": [],
      "source": [
        "if x < y:\n",
        "    print('x is less than y')\n",
        "elif x > y:\n",
        "    print ('x is greater than y')\n",
        "else:\n",
        "    print ('x and y are equal')"
      ]
    },
    {
      "cell_type": "markdown",
      "metadata": {
        "id": "7kDOo29pq6wM"
      },
      "source": [
        "* `elif` 是 “else if” 的縮寫\n",
        "\n",
        "* 同樣地，同時間只可能有一個分支被執行"
      ]
    },
    {
      "cell_type": "raw",
      "metadata": {
        "id": "3AmMkR4nq6wM"
      },
      "source": [
        "if choice == 'a':\n",
        "    draw_a()\n",
        "elif choice == 'b':\n",
        "    draw_b()\n",
        "elif choice == 'c':\n",
        "    draw_c()"
      ]
    },
    {
      "cell_type": "markdown",
      "metadata": {
        "id": "aMRLE6zyq6wM"
      },
      "source": [
        "* Python會按你所寫的程式順序，依序檢查每一個條件。如果第一個條件的結果是`False`，Python就會再嘗試檢查下一個，直到有一個是`True`，那Python就會執行那一個條件的body部分，然後這整個`if`-`elif`-`else`結構的敘述就會全部結束。\n",
        "* 也就是說，就算有好幾個條件都可能是`True`，Python也只會執行它遇到的**第一個**為`True`的條件的body，其它的**都不會被執行**。"
      ]
    },
    {
      "cell_type": "markdown",
      "metadata": {
        "id": "91Jnae1_q6wM"
      },
      "source": [
        "### 課堂練習 2.3\n",
        "\n",
        "讓使用者輸入分數。判斷是否為90以上，若是就列印：「你好棒，考了xx分，得到A」。若介於80-89則列印：「不錯，考了xx分，得到B」，以此類推直到不及格的E。"
      ]
    },
    {
      "cell_type": "code",
      "execution_count": null,
      "metadata": {
        "id": "1E-GkQBeq6wM"
      },
      "outputs": [],
      "source": []
    },
    {
      "cell_type": "markdown",
      "metadata": {
        "id": "B8YJ77v0q6wM"
      },
      "source": [
        "### 課堂練習 2.4\n",
        "\n",
        "請設計一個閏年判斷程式，依據使用者輸入的西元年份，判斷該年是否為閏年。\n",
        "\n",
        "閏年的判斷方式如下：\n",
        "\n",
        "* 若西元年末兩位不為00，且為4的倍數，則該年為閏年，其餘不為閏年\n",
        "* 若西元年末兩位為00，且可被400整除者，則該年為閏年，其餘不為閏年\n",
        "\n",
        "判斷口訣：「**四年一閏，百年不閏，四百年又閏**」"
      ]
    },
    {
      "cell_type": "code",
      "execution_count": null,
      "metadata": {
        "id": "qM7HPLQpq6wM"
      },
      "outputs": [],
      "source": []
    },
    {
      "cell_type": "markdown",
      "metadata": {
        "id": "0fKJ2XIsq6wM"
      },
      "source": [
        "### 課堂練習 2.5\n",
        "\n",
        "請設計一個單位轉換程式，可以轉換「公尺→英尺」以及「公斤→英磅」兩種功能，請先讓使用者選擇要轉換哪一種單位，再輸入欲轉換的數字。\n",
        "\n",
        "* 1公尺 = 3.28英尺\n",
        "* 1公斤 = 2.2英磅\n",
        "\n",
        "例如："
      ]
    },
    {
      "cell_type": "raw",
      "metadata": {
        "id": "fvmdggILq6wM"
      },
      "source": [
        "您要轉換 1)公尺->英尺  2)公斤->英磅: 1\n",
        "請輸入欲轉換的數字: 50\n",
        "50.000000公尺=164.000000英尺"
      ]
    },
    {
      "cell_type": "raw",
      "metadata": {
        "id": "GAiMgv0Yq6wM"
      },
      "source": [
        "您要轉換 1)公尺->英尺  2)公斤->英磅: 2\n",
        "請輸入欲轉換的數字: 3.5\n",
        "3.500000公斤=7.700000英磅"
      ]
    },
    {
      "cell_type": "raw",
      "metadata": {
        "id": "V1VGLRdjq6wM"
      },
      "source": [
        "您要轉換 1)公尺->英尺  2)公斤->英磅: 3\n",
        "請輸入欲轉換的數字: 50\n",
        "沒有這個選項"
      ]
    },
    {
      "cell_type": "code",
      "execution_count": null,
      "metadata": {
        "id": "YLlgPmnSq6wN"
      },
      "outputs": [],
      "source": []
    },
    {
      "cell_type": "markdown",
      "metadata": {
        "id": "pfwpDTGaq6wN"
      },
      "source": [
        "### 課堂練習 2.6\n",
        "\n",
        "我們都知道一年有四季，分別是春(3-5月)、夏(6-8月)、秋(9-11月)、冬(12-2月)。\n",
        "請寫一個程式判斷輸入的月份是什麼季節。\n",
        "\n",
        "另外，如果輸入「13」，程式會回應「不合格式的月份！」"
      ]
    },
    {
      "cell_type": "code",
      "execution_count": 1,
      "metadata": {
        "colab": {
          "base_uri": "https://localhost:8080/"
        },
        "id": "E9AvSjYkq6wN",
        "outputId": "69bd904e-1de8-4483-dfab-379d8b61bb21"
      },
      "outputs": [
        {
          "output_type": "stream",
          "name": "stdout",
          "text": [
            "hi\n"
          ]
        }
      ],
      "source": [
        "print(\"hi\")"
      ]
    }
  ],
  "metadata": {
    "kernelspec": {
      "display_name": "Python 3",
      "language": "python",
      "name": "python3"
    },
    "language_info": {
      "codemirror_mode": {
        "name": "ipython",
        "version": 3
      },
      "file_extension": ".py",
      "mimetype": "text/x-python",
      "name": "python",
      "nbconvert_exporter": "python",
      "pygments_lexer": "ipython3",
      "version": "3.7.3"
    },
    "colab": {
      "provenance": []
    }
  },
  "nbformat": 4,
  "nbformat_minor": 0
}